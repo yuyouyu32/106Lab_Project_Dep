{
 "cells": [
  {
   "cell_type": "code",
   "execution_count": 3,
   "source": [
    "def __indent(elem, level=0):\n",
    "    i = \"\\n\" + level*\"\\t\"\n",
    "    if len(elem):\n",
    "        if not elem.text or not elem.text.strip():\n",
    "            elem.text = i + \"\\t\"\n",
    "        if not elem.tail or not elem.tail.strip():\n",
    "            elem.tail = i\n",
    "        for elem in elem:\n",
    "            __indent(elem, level+1)\n",
    "        if not elem.tail or not elem.tail.strip():\n",
    "            elem.tail = i\n",
    "    else:\n",
    "        if level and (not elem.tail or not elem.tail.strip()):\n",
    "            elem.tail = i"
   ],
   "outputs": [],
   "metadata": {}
  },
  {
   "cell_type": "code",
   "execution_count": 4,
   "source": [
    "from feature_selection.workdir.feature_selection import feature_selection_regression\n",
    "import pandas as pd\n",
    "raw_data = pd.read_csv('./feature_selection/workdir/1561616415645612165/test.csv')\n",
    "y = raw_data['7']\n",
    "X = raw_data.iloc[:, 1-1: 6]\n",
    "feature_name = list(X.columns)\n",
    "feature_selection_result = feature_selection_regression(X,y,feature_name)"
   ],
   "outputs": [],
   "metadata": {}
  },
  {
   "cell_type": "code",
   "execution_count": 17,
   "source": [
    "feature_selection_result"
   ],
   "outputs": [
    {
     "output_type": "execute_result",
     "data": {
      "text/html": [
       "<div>\n",
       "<style scoped>\n",
       "    .dataframe tbody tr th:only-of-type {\n",
       "        vertical-align: middle;\n",
       "    }\n",
       "\n",
       "    .dataframe tbody tr th {\n",
       "        vertical-align: top;\n",
       "    }\n",
       "\n",
       "    .dataframe thead th {\n",
       "        text-align: right;\n",
       "    }\n",
       "</style>\n",
       "<table border=\"1\" class=\"dataframe\">\n",
       "  <thead>\n",
       "    <tr style=\"text-align: right;\">\n",
       "      <th></th>\n",
       "      <th>Feature</th>\n",
       "      <th>ElasticNet</th>\n",
       "      <th>Lasso</th>\n",
       "      <th>LightGBM</th>\n",
       "      <th>Pearson</th>\n",
       "      <th>RF</th>\n",
       "      <th>SVR</th>\n",
       "      <th>SVR-RFE</th>\n",
       "      <th>Variance</th>\n",
       "      <th>XGBoost</th>\n",
       "      <th>Total</th>\n",
       "    </tr>\n",
       "  </thead>\n",
       "  <tbody>\n",
       "    <tr>\n",
       "      <th>1</th>\n",
       "      <td>5</td>\n",
       "      <td>6.451613</td>\n",
       "      <td>6.451613</td>\n",
       "      <td>NaN</td>\n",
       "      <td>6.451613</td>\n",
       "      <td>22.580645</td>\n",
       "      <td>9.677419</td>\n",
       "      <td>19.354839</td>\n",
       "      <td>3.225806</td>\n",
       "      <td>25.806452</td>\n",
       "      <td>100.000000</td>\n",
       "    </tr>\n",
       "    <tr>\n",
       "      <th>2</th>\n",
       "      <td>6</td>\n",
       "      <td>6.451613</td>\n",
       "      <td>6.451613</td>\n",
       "      <td>NaN</td>\n",
       "      <td>6.451613</td>\n",
       "      <td>0.000000</td>\n",
       "      <td>9.677419</td>\n",
       "      <td>19.354839</td>\n",
       "      <td>3.225806</td>\n",
       "      <td>25.806452</td>\n",
       "      <td>77.419355</td>\n",
       "    </tr>\n",
       "    <tr>\n",
       "      <th>3</th>\n",
       "      <td>4</td>\n",
       "      <td>6.451613</td>\n",
       "      <td>6.451613</td>\n",
       "      <td>NaN</td>\n",
       "      <td>6.451613</td>\n",
       "      <td>0.000000</td>\n",
       "      <td>9.677419</td>\n",
       "      <td>19.354839</td>\n",
       "      <td>3.225806</td>\n",
       "      <td>25.806452</td>\n",
       "      <td>77.419355</td>\n",
       "    </tr>\n",
       "    <tr>\n",
       "      <th>4</th>\n",
       "      <td>3</td>\n",
       "      <td>6.451613</td>\n",
       "      <td>6.451613</td>\n",
       "      <td>NaN</td>\n",
       "      <td>6.451613</td>\n",
       "      <td>0.000000</td>\n",
       "      <td>9.677419</td>\n",
       "      <td>19.354839</td>\n",
       "      <td>3.225806</td>\n",
       "      <td>25.806452</td>\n",
       "      <td>77.419355</td>\n",
       "    </tr>\n",
       "    <tr>\n",
       "      <th>5</th>\n",
       "      <td>1</td>\n",
       "      <td>6.451613</td>\n",
       "      <td>6.451613</td>\n",
       "      <td>NaN</td>\n",
       "      <td>6.451613</td>\n",
       "      <td>0.000000</td>\n",
       "      <td>0.000000</td>\n",
       "      <td>19.354839</td>\n",
       "      <td>3.225806</td>\n",
       "      <td>25.806452</td>\n",
       "      <td>67.741935</td>\n",
       "    </tr>\n",
       "    <tr>\n",
       "      <th>6</th>\n",
       "      <td>2</td>\n",
       "      <td>6.451613</td>\n",
       "      <td>0.000000</td>\n",
       "      <td>NaN</td>\n",
       "      <td>6.451613</td>\n",
       "      <td>0.000000</td>\n",
       "      <td>0.000000</td>\n",
       "      <td>19.354839</td>\n",
       "      <td>3.225806</td>\n",
       "      <td>25.806452</td>\n",
       "      <td>61.290323</td>\n",
       "    </tr>\n",
       "  </tbody>\n",
       "</table>\n",
       "</div>"
      ],
      "text/plain": [
       "  Feature  ElasticNet     Lasso  ...  Variance    XGBoost       Total\n",
       "1       5    6.451613  6.451613  ...  3.225806  25.806452  100.000000\n",
       "2       6    6.451613  6.451613  ...  3.225806  25.806452   77.419355\n",
       "3       4    6.451613  6.451613  ...  3.225806  25.806452   77.419355\n",
       "4       3    6.451613  6.451613  ...  3.225806  25.806452   77.419355\n",
       "5       1    6.451613  6.451613  ...  3.225806  25.806452   67.741935\n",
       "6       2    6.451613  0.000000  ...  3.225806  25.806452   61.290323\n",
       "\n",
       "[6 rows x 11 columns]"
      ]
     },
     "metadata": {},
     "execution_count": 17
    }
   ],
   "metadata": {}
  },
  {
   "cell_type": "code",
   "execution_count": 9,
   "source": [
    "import os, sys\n",
    "lib_path = os.path.abspath(os.path.join('..'))\n",
    "from workdir.feature_selection import _add_info_xml, __indent"
   ],
   "outputs": [],
   "metadata": {}
  },
  {
   "cell_type": "code",
   "execution_count": 10,
   "source": [
    "_add_info_xml({'test1':[\"1\",\"2\"], \"test_2\": [\"3\",\"4\"]}, feature_selection_result)"
   ],
   "outputs": [],
   "metadata": {}
  },
  {
   "cell_type": "code",
   "execution_count": 59,
   "source": [
    "import json\n",
    "with open('parameters.json','r',encoding='utf8')as fp:\n",
    "    parameters = json.load(fp)\n",
    "parameters['feature_start'] = int(parameters['feature_start'])\n",
    "parameters['feature_end'] = int(parameters['feature_end'])\n",
    "parameters"
   ],
   "outputs": [
    {
     "output_type": "execute_result",
     "data": {
      "text/plain": [
       "{'inputCSV': 'a.csv',\n",
       " 'feature_start': 0,\n",
       " 'feature_end': '8',\n",
       " 'target': 'target',\n",
       " 'single': '1,2,3',\n",
       " 'interactionA': '0,1,2',\n",
       " 'interactionB': '3,4,5'}"
      ]
     },
     "metadata": {},
     "execution_count": 59
    }
   ],
   "metadata": {}
  },
  {
   "cell_type": "code",
   "execution_count": 1,
   "source": [
    "def _add_error_xml(error_message, error_detail):\n",
    "    try:\n",
    "        import xml.etree.cElementTree as ET\n",
    "    except ImportError:\n",
    "        import xml.etree.ElementTree as ET\n",
    "    import os\n",
    "    # Back up result.xml\n",
    "    # os.system('cp ./result.xml ./result_before.xml')  # Linux\n",
    "    os.system('copy .\\\\result.xml .\\\\result_before.xml')    # Win\n",
    "\n",
    "    tree = ET.parse(\"./result.xml\")\n",
    "    root = tree.getroot()\n",
    "    output = tree.find('output')\n",
    "    element_Error = ET.Element('ERROR')\n",
    "\n",
    "    element_error = ET.Element('error')\n",
    "    element_error.text = error_message\n",
    "    \n",
    "    element_error_detail = ET.Element('detail')\n",
    "    element_error_detail.text = error_detail\n",
    "\n",
    "    element_Error.append(element_error)\n",
    "    element_Error.append(element_error_detail)\n",
    "\n",
    "    for child in output.getchildren():\n",
    "        output.remove(child)\n",
    "    output.append(element_Error)\n",
    "    \n",
    "    # Save\n",
    "    __indent(root)\n",
    "    ET.tostring(root, method='xml')\n",
    "\n",
    "    tree.write('result.xml', encoding='utf-8', xml_declaration=True)\n",
    "    with open('result.xml', 'r') as fp:\n",
    "        lines = [line for line in fp]\n",
    "        lines.insert(1, '<?xml-stylesheet type=\"text/xsl\" href=\"/XSLTransform/feature_selection.xsl\" ?>\\n')\n",
    "    with open('result.xml', 'w') as fp:\n",
    "        fp.write(''.join(lines))\n",
    "\n"
   ],
   "outputs": [],
   "metadata": {}
  },
  {
   "cell_type": "code",
   "execution_count": 2,
   "source": [
    "_add_error_xml('error', 'divide 0')"
   ],
   "outputs": [
    {
     "output_type": "stream",
     "name": "stdout",
     "text": [
      "[<Element 'ERROR' at 0x7f2641b28db0>]\n"
     ]
    },
    {
     "output_type": "stream",
     "name": "stderr",
     "text": [
      "sh: 1: copy: not found\n"
     ]
    }
   ],
   "metadata": {}
  },
  {
   "cell_type": "code",
   "execution_count": null,
   "source": [],
   "outputs": [],
   "metadata": {}
  }
 ],
 "metadata": {
  "orig_nbformat": 4,
  "language_info": {
   "name": "python",
   "version": "3.8.12",
   "mimetype": "text/x-python",
   "codemirror_mode": {
    "name": "ipython",
    "version": 3
   },
   "pygments_lexer": "ipython3",
   "nbconvert_exporter": "python",
   "file_extension": ".py"
  },
  "kernelspec": {
   "name": "python3",
   "display_name": "Python 3.8.12 64-bit ('3.8.12': pyenv)"
  },
  "interpreter": {
   "hash": "6469256810d439989848f6835e9ebc98b91a4c50ace421cc73345a462bc14f96"
  }
 },
 "nbformat": 4,
 "nbformat_minor": 2
}