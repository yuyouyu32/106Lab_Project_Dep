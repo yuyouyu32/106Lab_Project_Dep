{
 "cells": [
  {
   "cell_type": "code",
   "execution_count": 1,
   "source": [
    "def __indent(elem, level=0):\n",
    "    i = \"\\n\" + level*\"\\t\"\n",
    "    if len(elem):\n",
    "        if not elem.text or not elem.text.strip():\n",
    "            elem.text = i + \"\\t\"\n",
    "        if not elem.tail or not elem.tail.strip():\n",
    "            elem.tail = i\n",
    "        for elem in elem:\n",
    "            __indent(elem, level+1)\n",
    "        if not elem.tail or not elem.tail.strip():\n",
    "            elem.tail = i\n",
    "    else:\n",
    "        if level and (not elem.tail or not elem.tail.strip()):\n",
    "            elem.tail = i"
   ],
   "outputs": [],
   "metadata": {}
  },
  {
   "cell_type": "code",
   "execution_count": 1,
   "source": [
    "from VSG import gmm_vsg\n",
    "test = gmm_vsg('test.csv', 100, 1,6)"
   ],
   "outputs": [
    {
     "output_type": "stream",
     "name": "stderr",
     "text": [
      "findfont: Font family ['sans-serif'] not found. Falling back to DejaVu Sans.\n",
      "findfont: Generic family 'sans-serif' not found because none of the following families were found: SimHei\n"
     ]
    },
    {
     "output_type": "display_data",
     "data": {
      "image/png": "[encoded data removed]",
      "text/plain": [
       "<Figure size 432x288 with 1 Axes>"
      ]
     },
     "metadata": {
      "needs_background": "light"
     }
    }
   ],
   "metadata": {}
  },
  {
   "cell_type": "code",
   "execution_count": 2,
   "source": [
    "test"
   ],
   "outputs": [
    {
     "output_type": "execute_result",
     "data": {
      "text/html": [
       "<div>\n",
       "<style scoped>\n",
       "    .dataframe tbody tr th:only-of-type {\n",
       "        vertical-align: middle;\n",
       "    }\n",
       "\n",
       "    .dataframe tbody tr th {\n",
       "        vertical-align: top;\n",
       "    }\n",
       "\n",
       "    .dataframe thead th {\n",
       "        text-align: right;\n",
       "    }\n",
       "</style>\n",
       "<table border=\"1\" class=\"dataframe\">\n",
       "  <thead>\n",
       "    <tr style=\"text-align: right;\">\n",
       "      <th></th>\n",
       "      <th>1</th>\n",
       "      <th>2</th>\n",
       "      <th>3</th>\n",
       "      <th>4</th>\n",
       "      <th>5</th>\n",
       "      <th>6</th>\n",
       "      <th>7</th>\n",
       "    </tr>\n",
       "  </thead>\n",
       "  <tbody>\n",
       "    <tr>\n",
       "      <th>0</th>\n",
       "      <td>3.300773</td>\n",
       "      <td>-0.000016</td>\n",
       "      <td>-0.000604</td>\n",
       "      <td>0.201635</td>\n",
       "      <td>0.500685</td>\n",
       "      <td>74.696704</td>\n",
       "      <td>28.224702</td>\n",
       "    </tr>\n",
       "    <tr>\n",
       "      <th>1</th>\n",
       "      <td>3.300938</td>\n",
       "      <td>-0.000470</td>\n",
       "      <td>0.000285</td>\n",
       "      <td>0.200135</td>\n",
       "      <td>0.500371</td>\n",
       "      <td>74.697318</td>\n",
       "      <td>28.225868</td>\n",
       "    </tr>\n",
       "    <tr>\n",
       "      <th>2</th>\n",
       "      <td>3.300173</td>\n",
       "      <td>0.001242</td>\n",
       "      <td>0.000584</td>\n",
       "      <td>0.200198</td>\n",
       "      <td>0.499036</td>\n",
       "      <td>74.695951</td>\n",
       "      <td>28.226130</td>\n",
       "    </tr>\n",
       "    <tr>\n",
       "      <th>3</th>\n",
       "      <td>3.302163</td>\n",
       "      <td>-0.000140</td>\n",
       "      <td>0.002869</td>\n",
       "      <td>0.200746</td>\n",
       "      <td>0.498327</td>\n",
       "      <td>74.694989</td>\n",
       "      <td>28.224340</td>\n",
       "    </tr>\n",
       "    <tr>\n",
       "      <th>4</th>\n",
       "      <td>3.300054</td>\n",
       "      <td>-0.000076</td>\n",
       "      <td>-0.000918</td>\n",
       "      <td>0.201756</td>\n",
       "      <td>0.498809</td>\n",
       "      <td>74.696946</td>\n",
       "      <td>28.223847</td>\n",
       "    </tr>\n",
       "    <tr>\n",
       "      <th>5</th>\n",
       "      <td>3.301097</td>\n",
       "      <td>-0.000903</td>\n",
       "      <td>0.000405</td>\n",
       "      <td>0.200586</td>\n",
       "      <td>0.502678</td>\n",
       "      <td>74.696548</td>\n",
       "      <td>28.225437</td>\n",
       "    </tr>\n",
       "    <tr>\n",
       "      <th>6</th>\n",
       "      <td>3.299388</td>\n",
       "      <td>-0.000004</td>\n",
       "      <td>-0.000816</td>\n",
       "      <td>0.200494</td>\n",
       "      <td>0.498994</td>\n",
       "      <td>74.695854</td>\n",
       "      <td>28.223532</td>\n",
       "    </tr>\n",
       "    <tr>\n",
       "      <th>7</th>\n",
       "      <td>3.128522</td>\n",
       "      <td>0.150634</td>\n",
       "      <td>-0.166427</td>\n",
       "      <td>0.539191</td>\n",
       "      <td>0.345168</td>\n",
       "      <td>37.143616</td>\n",
       "      <td>39.277911</td>\n",
       "    </tr>\n",
       "    <tr>\n",
       "      <th>8</th>\n",
       "      <td>3.163017</td>\n",
       "      <td>0.197144</td>\n",
       "      <td>0.044806</td>\n",
       "      <td>0.216524</td>\n",
       "      <td>0.375968</td>\n",
       "      <td>50.561662</td>\n",
       "      <td>39.845114</td>\n",
       "    </tr>\n",
       "    <tr>\n",
       "      <th>9</th>\n",
       "      <td>3.038168</td>\n",
       "      <td>0.609982</td>\n",
       "      <td>0.092759</td>\n",
       "      <td>0.204086</td>\n",
       "      <td>0.054606</td>\n",
       "      <td>41.227729</td>\n",
       "      <td>45.529668</td>\n",
       "    </tr>\n",
       "  </tbody>\n",
       "</table>\n",
       "</div>"
      ],
      "text/plain": [
       "          1         2         3         4         5          6          7\n",
       "0  3.300773 -0.000016 -0.000604  0.201635  0.500685  74.696704  28.224702\n",
       "1  3.300938 -0.000470  0.000285  0.200135  0.500371  74.697318  28.225868\n",
       "2  3.300173  0.001242  0.000584  0.200198  0.499036  74.695951  28.226130\n",
       "3  3.302163 -0.000140  0.002869  0.200746  0.498327  74.694989  28.224340\n",
       "4  3.300054 -0.000076 -0.000918  0.201756  0.498809  74.696946  28.223847\n",
       "5  3.301097 -0.000903  0.000405  0.200586  0.502678  74.696548  28.225437\n",
       "6  3.299388 -0.000004 -0.000816  0.200494  0.498994  74.695854  28.223532\n",
       "7  3.128522  0.150634 -0.166427  0.539191  0.345168  37.143616  39.277911\n",
       "8  3.163017  0.197144  0.044806  0.216524  0.375968  50.561662  39.845114\n",
       "9  3.038168  0.609982  0.092759  0.204086  0.054606  41.227729  45.529668"
      ]
     },
     "metadata": {},
     "execution_count": 2
    }
   ],
   "metadata": {}
  },
  {
   "cell_type": "code",
   "execution_count": 3,
   "source": [
    "from VSG import _add_info_xml"
   ],
   "outputs": [],
   "metadata": {}
  },
  {
   "cell_type": "code",
   "execution_count": 4,
   "source": [
    "_add_info_xml(test)"
   ],
   "outputs": [
    {
     "output_type": "stream",
     "name": "stdout",
     "text": [
      "<Element 'values' at 0x7f0b797e5b30>\n",
      "<Element 'values' at 0x7f0b797e5a90>\n",
      "<Element 'values' at 0x7f0b797e60e0>\n",
      "<Element 'values' at 0x7f0b797e6590>\n",
      "<Element 'values' at 0x7f0b797e6a40>\n",
      "<Element 'values' at 0x7f0b797e6ef0>\n",
      "<Element 'values' at 0x7f0b797e8400>\n",
      "<Element 'values' at 0x7f0b797e88b0>\n",
      "<Element 'values' at 0x7f0b797e8d60>\n",
      "<Element 'values' at 0x7f0b797e9270>\n"
     ]
    }
   ],
   "metadata": {}
  },
  {
   "cell_type": "code",
   "execution_count": null,
   "source": [],
   "outputs": [],
   "metadata": {}
  }
 ],
 "metadata": {
  "orig_nbformat": 4,
  "language_info": {
   "name": "python",
   "version": "3.8.12",
   "mimetype": "text/x-python",
   "codemirror_mode": {
    "name": "ipython",
    "version": 3
   },
   "pygments_lexer": "ipython3",
   "nbconvert_exporter": "python",
   "file_extension": ".py"
  },
  "kernelspec": {
   "name": "python3",
   "display_name": "Python 3.8.12 64-bit ('3.8.12': pyenv)"
  },
  "interpreter": {
   "hash": "6469256810d439989848f6835e9ebc98b91a4c50ace421cc73345a462bc14f96"
  }
 },
 "nbformat": 4,
 "nbformat_minor": 2
}