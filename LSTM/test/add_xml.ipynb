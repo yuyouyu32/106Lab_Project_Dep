{
 "cells": [
  {
   "cell_type": "code",
   "execution_count": 1,
   "metadata": {},
   "outputs": [
    {
     "name": "stderr",
     "output_type": "stream",
     "text": [
      "/home/yuyouyu/.pyenv/versions/3.7.11/lib/python3.7/site-packages/tensorflow/python/framework/dtypes.py:516: FutureWarning: Passing (type, 1) or '1type' as a synonym of type is deprecated; in a future version of numpy, it will be understood as (type, (1,)) / '(1,)type'.\n",
      "  _np_qint8 = np.dtype([(\"qint8\", np.int8, 1)])\n",
      "/home/yuyouyu/.pyenv/versions/3.7.11/lib/python3.7/site-packages/tensorflow/python/framework/dtypes.py:517: FutureWarning: Passing (type, 1) or '1type' as a synonym of type is deprecated; in a future version of numpy, it will be understood as (type, (1,)) / '(1,)type'.\n",
      "  _np_quint8 = np.dtype([(\"quint8\", np.uint8, 1)])\n",
      "/home/yuyouyu/.pyenv/versions/3.7.11/lib/python3.7/site-packages/tensorflow/python/framework/dtypes.py:518: FutureWarning: Passing (type, 1) or '1type' as a synonym of type is deprecated; in a future version of numpy, it will be understood as (type, (1,)) / '(1,)type'.\n",
      "  _np_qint16 = np.dtype([(\"qint16\", np.int16, 1)])\n",
      "/home/yuyouyu/.pyenv/versions/3.7.11/lib/python3.7/site-packages/tensorflow/python/framework/dtypes.py:519: FutureWarning: Passing (type, 1) or '1type' as a synonym of type is deprecated; in a future version of numpy, it will be understood as (type, (1,)) / '(1,)type'.\n",
      "  _np_quint16 = np.dtype([(\"quint16\", np.uint16, 1)])\n",
      "/home/yuyouyu/.pyenv/versions/3.7.11/lib/python3.7/site-packages/tensorflow/python/framework/dtypes.py:520: FutureWarning: Passing (type, 1) or '1type' as a synonym of type is deprecated; in a future version of numpy, it will be understood as (type, (1,)) / '(1,)type'.\n",
      "  _np_qint32 = np.dtype([(\"qint32\", np.int32, 1)])\n",
      "/home/yuyouyu/.pyenv/versions/3.7.11/lib/python3.7/site-packages/tensorflow/python/framework/dtypes.py:525: FutureWarning: Passing (type, 1) or '1type' as a synonym of type is deprecated; in a future version of numpy, it will be understood as (type, (1,)) / '(1,)type'.\n",
      "  np_resource = np.dtype([(\"resource\", np.ubyte, 1)])\n",
      "/home/yuyouyu/.pyenv/versions/3.7.11/lib/python3.7/site-packages/tensorboard/compat/tensorflow_stub/dtypes.py:541: FutureWarning: Passing (type, 1) or '1type' as a synonym of type is deprecated; in a future version of numpy, it will be understood as (type, (1,)) / '(1,)type'.\n",
      "  _np_qint8 = np.dtype([(\"qint8\", np.int8, 1)])\n",
      "/home/yuyouyu/.pyenv/versions/3.7.11/lib/python3.7/site-packages/tensorboard/compat/tensorflow_stub/dtypes.py:542: FutureWarning: Passing (type, 1) or '1type' as a synonym of type is deprecated; in a future version of numpy, it will be understood as (type, (1,)) / '(1,)type'.\n",
      "  _np_quint8 = np.dtype([(\"quint8\", np.uint8, 1)])\n",
      "/home/yuyouyu/.pyenv/versions/3.7.11/lib/python3.7/site-packages/tensorboard/compat/tensorflow_stub/dtypes.py:543: FutureWarning: Passing (type, 1) or '1type' as a synonym of type is deprecated; in a future version of numpy, it will be understood as (type, (1,)) / '(1,)type'.\n",
      "  _np_qint16 = np.dtype([(\"qint16\", np.int16, 1)])\n",
      "/home/yuyouyu/.pyenv/versions/3.7.11/lib/python3.7/site-packages/tensorboard/compat/tensorflow_stub/dtypes.py:544: FutureWarning: Passing (type, 1) or '1type' as a synonym of type is deprecated; in a future version of numpy, it will be understood as (type, (1,)) / '(1,)type'.\n",
      "  _np_quint16 = np.dtype([(\"quint16\", np.uint16, 1)])\n",
      "/home/yuyouyu/.pyenv/versions/3.7.11/lib/python3.7/site-packages/tensorboard/compat/tensorflow_stub/dtypes.py:545: FutureWarning: Passing (type, 1) or '1type' as a synonym of type is deprecated; in a future version of numpy, it will be understood as (type, (1,)) / '(1,)type'.\n",
      "  _np_qint32 = np.dtype([(\"qint32\", np.int32, 1)])\n",
      "/home/yuyouyu/.pyenv/versions/3.7.11/lib/python3.7/site-packages/tensorboard/compat/tensorflow_stub/dtypes.py:550: FutureWarning: Passing (type, 1) or '1type' as a synonym of type is deprecated; in a future version of numpy, it will be understood as (type, (1,)) / '(1,)type'.\n",
      "  np_resource = np.dtype([(\"resource\", np.ubyte, 1)])\n"
     ]
    }
   ],
   "source": [
    "from LSTM import LSTM_module"
   ]
  },
  {
   "cell_type": "code",
   "execution_count": 2,
   "metadata": {},
   "outputs": [
    {
     "name": "stdout",
     "output_type": "stream",
     "text": [
      "WARNING:tensorflow:From /home/yuyouyu/.pyenv/versions/3.7.11/lib/python3.7/site-packages/tensorflow/python/ops/init_ops.py:1251: calling VarianceScaling.__init__ (from tensorflow.python.ops.init_ops) with dtype is deprecated and will be removed in a future version.\n",
      "Instructions for updating:\n",
      "Call initializer instance with the dtype argument instead of passing it to the constructor\n",
      "WARNING:tensorflow:From /home/yuyouyu/.pyenv/versions/3.7.11/lib/python3.7/site-packages/tensorflow/python/ops/math_grad.py:1250: add_dispatch_support.<locals>.wrapper (from tensorflow.python.ops.array_ops) is deprecated and will be removed in a future version.\n",
      "Instructions for updating:\n",
      "Use tf.where in 2.0, which has the same broadcast rule as np.where\n",
      "Epoch 1/100\n"
     ]
    },
    {
     "name": "stderr",
     "output_type": "stream",
     "text": [
      "2021-11-01 18:26:24.692922: I tensorflow/core/platform/cpu_feature_guard.cc:142] Your CPU supports instructions that this TensorFlow binary was not compiled to use: AVX2 FMA\n",
      "2021-11-01 18:26:24.718412: I tensorflow/core/platform/profile_utils/cpu_utils.cc:94] CPU Frequency: 2799925000 Hz\n",
      "2021-11-01 18:26:24.718755: I tensorflow/compiler/xla/service/service.cc:168] XLA service 0x560de0595b90 executing computations on platform Host. Devices:\n",
      "2021-11-01 18:26:24.718790: I tensorflow/compiler/xla/service/service.cc:175]   StreamExecutor device (0): <undefined>, <undefined>\n",
      "2021-11-01 18:26:24.808012: W tensorflow/compiler/jit/mark_for_compilation_pass.cc:1412] (One-time warning): Not using XLA:CPU for cluster because envvar TF_XLA_FLAGS=--tf_xla_cpu_global_jit was not set.  If you want XLA:CPU, either set that envvar, or use experimental_jit_scope to enable XLA:CPU.  To confirm that XLA is active, pass --vmodule=xla_compilation_cache=1 (as a proper command-line flag, not via TF_XLA_FLAGS) or set the envvar XLA_FLAGS=--xla_hlo_profile.\n"
     ]
    },
    {
     "name": "stdout",
     "output_type": "stream",
     "text": [
      "140/140 - 2s - loss: 0.0547\n",
      "Epoch 2/100\n",
      "140/140 - 1s - loss: 0.0181\n",
      "Epoch 3/100\n",
      "140/140 - 1s - loss: 0.0142\n",
      "Epoch 4/100\n",
      "140/140 - 1s - loss: 0.0154\n",
      "Epoch 5/100\n",
      "140/140 - 1s - loss: 0.0152\n",
      "Epoch 6/100\n",
      "140/140 - 1s - loss: 0.0136\n",
      "Epoch 7/100\n",
      "140/140 - 1s - loss: 0.0117\n",
      "Epoch 8/100\n",
      "140/140 - 1s - loss: 0.0132\n",
      "Epoch 9/100\n",
      "140/140 - 1s - loss: 0.0126\n",
      "Epoch 10/100\n",
      "140/140 - 1s - loss: 0.0119\n",
      "Epoch 11/100\n",
      "140/140 - 1s - loss: 0.0118\n",
      "Epoch 12/100\n",
      "140/140 - 1s - loss: 0.0119\n",
      "Epoch 13/100\n",
      "140/140 - 1s - loss: 0.0117\n",
      "Epoch 14/100\n",
      "140/140 - 1s - loss: 0.0114\n",
      "Epoch 15/100\n",
      "140/140 - 1s - loss: 0.0117\n",
      "Epoch 16/100\n",
      "140/140 - 1s - loss: 0.0115\n",
      "Epoch 17/100\n",
      "140/140 - 1s - loss: 0.0106\n",
      "Epoch 18/100\n",
      "140/140 - 1s - loss: 0.0107\n",
      "Epoch 19/100\n",
      "140/140 - 1s - loss: 0.0108\n",
      "Epoch 20/100\n",
      "140/140 - 1s - loss: 0.0104\n",
      "Epoch 21/100\n",
      "140/140 - 1s - loss: 0.0103\n",
      "Epoch 22/100\n",
      "140/140 - 1s - loss: 0.0110\n",
      "Epoch 23/100\n",
      "140/140 - 1s - loss: 0.0096\n",
      "Epoch 24/100\n",
      "140/140 - 1s - loss: 0.0098\n",
      "Epoch 25/100\n",
      "140/140 - 1s - loss: 0.0096\n",
      "Epoch 26/100\n",
      "140/140 - 1s - loss: 0.0094\n",
      "Epoch 27/100\n",
      "140/140 - 1s - loss: 0.0088\n",
      "Epoch 28/100\n",
      "140/140 - 1s - loss: 0.0090\n",
      "Epoch 29/100\n",
      "140/140 - 1s - loss: 0.0086\n",
      "Epoch 30/100\n",
      "140/140 - 1s - loss: 0.0089\n",
      "Epoch 31/100\n",
      "140/140 - 1s - loss: 0.0080\n",
      "Epoch 32/100\n",
      "140/140 - 1s - loss: 0.0082\n",
      "Epoch 33/100\n",
      "140/140 - 1s - loss: 0.0070\n",
      "Epoch 34/100\n",
      "140/140 - 1s - loss: 0.0069\n",
      "Epoch 35/100\n",
      "140/140 - 1s - loss: 0.0057\n",
      "Epoch 36/100\n",
      "140/140 - 1s - loss: 0.0049\n",
      "Epoch 37/100\n",
      "140/140 - 1s - loss: 0.0051\n",
      "Epoch 38/100\n",
      "140/140 - 1s - loss: 0.0052\n",
      "Epoch 39/100\n",
      "140/140 - 1s - loss: 0.0055\n",
      "Epoch 40/100\n",
      "140/140 - 1s - loss: 0.0042\n",
      "Epoch 41/100\n",
      "140/140 - 1s - loss: 0.0046\n",
      "Epoch 42/100\n",
      "140/140 - 1s - loss: 0.0046\n",
      "Epoch 43/100\n",
      "140/140 - 1s - loss: 0.0047\n",
      "Epoch 44/100\n",
      "140/140 - 1s - loss: 0.0039\n",
      "Epoch 45/100\n",
      "140/140 - 1s - loss: 0.0040\n",
      "Epoch 46/100\n",
      "140/140 - 1s - loss: 0.0041\n",
      "Epoch 47/100\n",
      "140/140 - 1s - loss: 0.0038\n",
      "Epoch 48/100\n",
      "140/140 - 1s - loss: 0.0038\n",
      "Epoch 49/100\n",
      "140/140 - 1s - loss: 0.0041\n",
      "Epoch 50/100\n",
      "140/140 - 1s - loss: 0.0038\n",
      "Epoch 51/100\n",
      "140/140 - 1s - loss: 0.0038\n",
      "Epoch 52/100\n",
      "140/140 - 1s - loss: 0.0037\n",
      "Epoch 53/100\n",
      "140/140 - 1s - loss: 0.0040\n",
      "Epoch 54/100\n",
      "140/140 - 1s - loss: 0.0036\n",
      "Epoch 55/100\n",
      "140/140 - 1s - loss: 0.0037\n",
      "Epoch 56/100\n",
      "140/140 - 1s - loss: 0.0036\n",
      "Epoch 57/100\n",
      "140/140 - 1s - loss: 0.0037\n",
      "Epoch 58/100\n",
      "140/140 - 1s - loss: 0.0036\n",
      "Epoch 59/100\n",
      "140/140 - 1s - loss: 0.0039\n",
      "Epoch 60/100\n",
      "140/140 - 1s - loss: 0.0037\n",
      "Epoch 61/100\n",
      "140/140 - 1s - loss: 0.0038\n",
      "Epoch 62/100\n",
      "140/140 - 1s - loss: 0.0036\n",
      "Epoch 63/100\n",
      "140/140 - 1s - loss: 0.0040\n",
      "Epoch 64/100\n",
      "140/140 - 1s - loss: 0.0041\n",
      "Epoch 65/100\n",
      "140/140 - 1s - loss: 0.0035\n",
      "Epoch 66/100\n",
      "140/140 - 1s - loss: 0.0039\n",
      "Epoch 67/100\n",
      "140/140 - 1s - loss: 0.0036\n",
      "Epoch 68/100\n",
      "140/140 - 1s - loss: 0.0039\n",
      "Epoch 69/100\n",
      "140/140 - 1s - loss: 0.0038\n",
      "Epoch 70/100\n",
      "140/140 - 1s - loss: 0.0039\n",
      "Epoch 71/100\n",
      "140/140 - 1s - loss: 0.0036\n",
      "Epoch 72/100\n",
      "140/140 - 1s - loss: 0.0037\n",
      "Epoch 73/100\n",
      "140/140 - 1s - loss: 0.0036\n",
      "Epoch 74/100\n",
      "140/140 - 1s - loss: 0.0033\n",
      "Epoch 75/100\n",
      "140/140 - 1s - loss: 0.0034\n",
      "Epoch 76/100\n",
      "140/140 - 1s - loss: 0.0035\n",
      "Epoch 77/100\n",
      "140/140 - 1s - loss: 0.0034\n",
      "Epoch 78/100\n",
      "140/140 - 1s - loss: 0.0035\n",
      "Epoch 79/100\n",
      "140/140 - 1s - loss: 0.0042\n",
      "Epoch 80/100\n",
      "140/140 - 1s - loss: 0.0034\n",
      "Epoch 81/100\n",
      "140/140 - 1s - loss: 0.0035\n",
      "Epoch 82/100\n",
      "140/140 - 1s - loss: 0.0038\n",
      "Epoch 83/100\n",
      "140/140 - 1s - loss: 0.0034\n",
      "Epoch 84/100\n",
      "140/140 - 1s - loss: 0.0036\n",
      "Epoch 85/100\n",
      "140/140 - 1s - loss: 0.0038\n",
      "Epoch 86/100\n",
      "140/140 - 1s - loss: 0.0037\n",
      "Epoch 87/100\n",
      "140/140 - 1s - loss: 0.0035\n",
      "Epoch 88/100\n",
      "140/140 - 1s - loss: 0.0033\n",
      "Epoch 89/100\n",
      "140/140 - 1s - loss: 0.0035\n",
      "Epoch 90/100\n",
      "140/140 - 1s - loss: 0.0033\n",
      "Epoch 91/100\n",
      "140/140 - 1s - loss: 0.0033\n",
      "Epoch 92/100\n",
      "140/140 - 1s - loss: 0.0032\n",
      "Epoch 93/100\n",
      "140/140 - 1s - loss: 0.0033\n",
      "Epoch 94/100\n",
      "140/140 - 1s - loss: 0.0034\n",
      "Epoch 95/100\n",
      "140/140 - 1s - loss: 0.0038\n",
      "Epoch 96/100\n",
      "140/140 - 1s - loss: 0.0036\n",
      "Epoch 97/100\n",
      "140/140 - 1s - loss: 0.0034\n",
      "Epoch 98/100\n",
      "140/140 - 1s - loss: 0.0035\n",
      "Epoch 99/100\n",
      "140/140 - 1s - loss: 0.0035\n",
      "Epoch 100/100\n",
      "140/140 - 1s - loss: 0.0033\n"
     ]
    },
    {
     "data": {
      "image/png": "[encoded data removed]",
      "text/plain": [
       "<Figure size 432x288 with 1 Axes>"
      ]
     },
     "metadata": {
      "needs_background": "light"
     },
     "output_type": "display_data"
    }
   ],
   "source": [
    "r2, data_predict = LSTM_module(path='../test/flights.csv', look_back=3, index_col=1, normalization=1, formation=[16,32,16], epochs=100, batch_size=1, expand_num=3)"
   ]
  },
  {
   "cell_type": "code",
   "execution_count": 3,
   "metadata": {},
   "outputs": [
    {
     "data": {
      "text/plain": [
       "0.9215766064859482"
      ]
     },
     "execution_count": 3,
     "metadata": {},
     "output_type": "execute_result"
    }
   ],
   "source": [
    "r2"
   ]
  },
  {
   "cell_type": "code",
   "execution_count": 4,
   "metadata": {},
   "outputs": [
    {
     "data": {
      "text/plain": [
       "array([[498.99025314],\n",
       "       [560.76289644],\n",
       "       [583.01333019]])"
      ]
     },
     "execution_count": 4,
     "metadata": {},
     "output_type": "execute_result"
    }
   ],
   "source": [
    "data_predict"
   ]
  },
  {
   "cell_type": "code",
   "execution_count": 5,
   "metadata": {},
   "outputs": [],
   "source": [
    "from LSTM import _add_info_xml\n",
    "_add_info_xml('test', r2, data_predict)"
   ]
  },
  {
   "cell_type": "code",
   "execution_count": null,
   "metadata": {},
   "outputs": [],
   "source": []
  }
 ],
 "metadata": {
  "interpreter": {
   "hash": "a1a9158c98fdf4eea74d251fa28f8f2f2b1722050f54769b905e7b43ccdf26b3"
  },
  "kernelspec": {
   "display_name": "Python 3.7.11 64-bit ('3.7.11': pyenv)",
   "name": "python3"
  },
  "language_info": {
   "codemirror_mode": {
    "name": "ipython",
    "version": 3
   },
   "file_extension": ".py",
   "mimetype": "text/x-python",
   "name": "python",
   "nbconvert_exporter": "python",
   "pygments_lexer": "ipython3",
   "version": "3.7.11"
  },
  "orig_nbformat": 4
 },
 "nbformat": 4,
 "nbformat_minor": 2
}
